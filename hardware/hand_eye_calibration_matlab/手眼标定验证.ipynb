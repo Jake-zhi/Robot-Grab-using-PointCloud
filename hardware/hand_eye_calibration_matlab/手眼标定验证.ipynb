{
 "cells": [
  {
   "cell_type": "code",
   "execution_count": 2,
   "metadata": {},
   "outputs": [],
   "source": [
    "import numpy as np"
   ]
  },
  {
   "cell_type": "markdown",
   "metadata": {},
   "source": [
    "![image](手眼标定验证.png)"
   ]
  },
  {
   "cell_type": "markdown",
   "metadata": {},
   "source": [
    "Final camera to arm base transform is\n",
    "0.3094   -0.8386    0.4484    0.4238\n",
    "-0.7958   0.0298    0.6048    -0.5000\n",
    "-0.5206   -0.5440   -0.6581   -0.5000\n",
    "0       0       0       1.0000"
   ]
  },
  {
   "cell_type": "code",
   "execution_count": 15,
   "metadata": {},
   "outputs": [
    {
     "name": "stdout",
     "output_type": "stream",
     "text": [
      "[[ 1.4449886]\n",
      " [ 0.1878255]\n",
      " [-0.8477205]\n",
      " [ 1.       ]]\n"
     ]
    }
   ],
   "source": [
    "p_camera = np.array([[-0.049],[-0.66],[1.1],[1]])\n",
    "camera_to_base = np.array([[0.3086,  -0.8425,    0.4416,    0.4183],\n",
    "   [-0.7955,    0.0259,    0.6054,   -0.5000],\n",
    "   [-0.5215,   -0.5381,   -0.6622,   -0.5000],\n",
    "   [      0,         0,         0,    1.0000]])\n",
    "p_base = np.dot(camera_to_base, p_camera)\n",
    "print(p_base)\n"
   ]
  },
  {
   "cell_type": "code",
   "execution_count": null,
   "metadata": {},
   "outputs": [],
   "source": []
  }
 ],
 "metadata": {
  "kernelspec": {
   "display_name": "Python 3",
   "language": "python",
   "name": "python3"
  },
  "language_info": {
   "codemirror_mode": {
    "name": "ipython",
    "version": 3
   },
   "file_extension": ".py",
   "mimetype": "text/x-python",
   "name": "python",
   "nbconvert_exporter": "python",
   "pygments_lexer": "ipython3",
   "version": "3.7.5"
  }
 },
 "nbformat": 4,
 "nbformat_minor": 4
}
